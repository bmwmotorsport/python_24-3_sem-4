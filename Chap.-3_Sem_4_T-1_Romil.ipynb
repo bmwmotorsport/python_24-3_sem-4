{
 "cells": [
  {
   "cell_type": "markdown",
   "id": "03eb5238",
   "metadata": {},
   "source": [
    "# Chap.-3 R.E.(Regular Expression)\n",
    "   - ## Metacharacters\n",
    "        - [] - Set of characters\n",
    "        - \\ - Signals a special sequence (Escape special characters)\n",
    "        - .(dot) - Any character\n",
    "        - ^ - Starts with (but in [...] - inverse )\n",
    "        - $ - Ends with - it's only check at 0 index\n",
    "        - '*' - Zero or More occurance\n",
    "        - '+' - One or More occurance\n",
    "        - ? - Zero or One occurance\n",
    "        - {} - Exact occurance\n",
    "        - ! - Either or\n",
    "        - \\d - only digit(0-9)\n",
    "        - \\D - Except Digit Everything\n",
    "        - \\s - whitespace\n",
    "        - \\w - AlphaNumeric [a-z, A-Z, 0-9]\n",
    "        - \\W - (Not a Word Character): Matches any character that is not a letter, digit, or underscore. This includes punctuation, spaces, and other symbols.\n",
    "        - \\b - begining or end of a word\n",
    "        - \\B - NOT or end of a word"
   ]
  },
  {
   "cell_type": "markdown",
   "id": "870aba70",
   "metadata": {},
   "source": [
    "- ## re.findall(pattern, string)"
   ]
  },
  {
   "cell_type": "code",
   "execution_count": 1,
   "id": "adbd31c2",
   "metadata": {},
   "outputs": [
    {
     "name": "stdout",
     "output_type": "stream",
     "text": [
      "['the', 'thon']\n"
     ]
    }
   ],
   "source": [
    "import re\n",
    "text = 'This is the Python Programming class of 2025'\n",
    "reg = r't\\w*'\n",
    "ans = re.findall(reg,text)\n",
    "print(ans) # ['the', 'thon']"
   ]
  },
  {
   "cell_type": "markdown",
   "id": "10eaa892",
   "metadata": {},
   "source": []
  },
  {
   "cell_type": "code",
   "execution_count": 2,
   "id": "02aa6186",
   "metadata": {},
   "outputs": [
    {
     "name": "stdout",
     "output_type": "stream",
     "text": [
      "['the']\n"
     ]
    }
   ],
   "source": [
    "import re\n",
    "text = 'This is the Python Programming class of 2025'\n",
    "reg = r'\\bt\\w*'\n",
    "ans = re.findall(reg,text)\n",
    "print(ans)"
   ]
  },
  {
   "cell_type": "code",
   "execution_count": 4,
   "id": "137fd4c1",
   "metadata": {},
   "outputs": [
    {
     "name": "stdout",
     "output_type": "stream",
     "text": [
      "['This', 'the']\n"
     ]
    }
   ],
   "source": [
    "import re\n",
    "text = 'This is the Python Programming class of 2025'\n",
    "reg = r'\\b[t|T]\\w*'\n",
    "ans = re.findall(reg,text)\n",
    "print(ans)"
   ]
  },
  {
   "cell_type": "code",
   "execution_count": 5,
   "id": "d6f11574",
   "metadata": {},
   "outputs": [
    {
     "name": "stdout",
     "output_type": "stream",
     "text": [
      "['This', 'the']\n"
     ]
    }
   ],
   "source": [
    "import re\n",
    "text = 'This is the Python Programming class of 2025'\n",
    "reg = r'\\bt\\w*'\n",
    "ans = re.findall(reg,text,re.I)\n",
    "print(ans)"
   ]
  },
  {
   "cell_type": "markdown",
   "id": "2395fbcd",
   "metadata": {},
   "source": [
    "- ### re.I - Ignore Case(Capital or small).\n",
    "- ## re.search(reg,text)"
   ]
  },
  {
   "cell_type": "code",
   "execution_count": 6,
   "id": "8595da3e",
   "metadata": {},
   "outputs": [
    {
     "name": "stdout",
     "output_type": "stream",
     "text": [
      "<re.Match object; span=(0, 4), match='This'>\n"
     ]
    }
   ],
   "source": [
    "import re\n",
    "text = 'This is the Python Programming class of 2025'\n",
    "reg = r'\\bt\\w*'\n",
    "ans = re.search(reg,text,re.I)\n",
    "print(ans)"
   ]
  },
  {
   "cell_type": "code",
   "execution_count": 7,
   "id": "6a0c7d3d",
   "metadata": {},
   "outputs": [
    {
     "name": "stdout",
     "output_type": "stream",
     "text": [
      "This\n"
     ]
    }
   ],
   "source": [
    "import re\n",
    "text = 'This is the Python Programming class of 2025'\n",
    "reg = r'\\bt\\w*'\n",
    "ans = re.search(reg,text,re.I)\n",
    "print(ans.group())"
   ]
  },
  {
   "cell_type": "code",
   "execution_count": 8,
   "id": "86da1bdd",
   "metadata": {},
   "outputs": [
    {
     "name": "stdout",
     "output_type": "stream",
     "text": [
      "(0, 4)\n"
     ]
    }
   ],
   "source": [
    "import re\n",
    "text = 'This is the Python Programming class of 2025'\n",
    "reg = r'\\bt\\w*'\n",
    "ans = re.search(reg,text,re.I)\n",
    "print(ans.span())"
   ]
  },
  {
   "cell_type": "code",
   "execution_count": 11,
   "id": "e2758ae1",
   "metadata": {},
   "outputs": [
    {
     "name": "stdout",
     "output_type": "stream",
     "text": [
      "0\n"
     ]
    }
   ],
   "source": [
    "import re\n",
    "text = 'This is the Python Programming class of 2025'\n",
    "reg = r'\\bt\\w*'\n",
    "ans = re.search(reg,text,re.I)\n",
    "print(ans.start())"
   ]
  },
  {
   "cell_type": "code",
   "execution_count": 12,
   "id": "b190352c",
   "metadata": {},
   "outputs": [
    {
     "name": "stdout",
     "output_type": "stream",
     "text": [
      "None\n"
     ]
    }
   ],
   "source": [
    "import re\n",
    "text='This is the python Programming class of 2025'\n",
    "reg=r'\\bz\\w*'\n",
    "ans=re.search(reg,text,re.I)\n",
    "print(ans)\n",
    "# if not in string then return none and other method dont work on none so it gives error"
   ]
  },
  {
   "cell_type": "code",
   "execution_count": 16,
   "id": "ae69f918",
   "metadata": {},
   "outputs": [
    {
     "name": "stdout",
     "output_type": "stream",
     "text": [
      "['This', 'is', 'the', 'Pyth', 'on', 'Prog', 'ramming', 'class', 'of', '2025']\n"
     ]
    }
   ],
   "source": [
    "import re\n",
    "text = 'This is the Pyth-on Prog*ramming class of 2025'\n",
    "reg = r'\\W'\n",
    "ans = re.split(reg,text)\n",
    "print(ans)"
   ]
  },
  {
   "cell_type": "code",
   "execution_count": 17,
   "id": "55fe7e09",
   "metadata": {},
   "outputs": [
    {
     "name": "stdout",
     "output_type": "stream",
     "text": [
      "['This', 'is', 'the Pyth-on Prog*ramming class of 2025']\n"
     ]
    }
   ],
   "source": [
    "import re\n",
    "text = 'This is the Pyth-on Prog*ramming class of 2025'\n",
    "reg = r'\\W'\n",
    "ans = re.split(reg,text,2) # max 2 split\n",
    "print(ans) # ['This', 'is', 'the Pyth-on Prog*ramming class of 2025']\n",
    "\n",
    "# if 2 split then 3 peice of String"
   ]
  },
  {
   "cell_type": "code",
   "execution_count": 18,
   "id": "2778ce1b",
   "metadata": {},
   "outputs": [
    {
     "name": "stdout",
     "output_type": "stream",
     "text": [
      "['', '', '', '', ' ', '', ' ', '', '', ' ', '', '', '', '-', '', ' ', '', '', '', '*', '', '', '', '', '', '', ' ', '', '', '', '', ' ', '', ' ', '', '', '', '']\n"
     ]
    }
   ],
   "source": [
    "import re\n",
    "text = 'This is the Pyth-on Prog*ramming class of 2025'\n",
    "reg = r'\\w'\n",
    "ans = re.split(reg,text)\n",
    "print(ans)"
   ]
  },
  {
   "cell_type": "markdown",
   "id": "850bb366",
   "metadata": {},
   "source": [
    "- ## re.sub(reg,'$',text) - for replace"
   ]
  },
  {
   "cell_type": "code",
   "execution_count": 20,
   "id": "05783359",
   "metadata": {},
   "outputs": [
    {
     "name": "stdout",
     "output_type": "stream",
     "text": [
      "This$is$the$Pyth-on$Prog*ramming$class$of$2025\n"
     ]
    }
   ],
   "source": [
    "import re\n",
    "text = 'This is the Pyth-on Prog*ramming class of 2025'\n",
    "reg = r'\\s'\n",
    "ans = re.sub(reg,'$',text)\n",
    "print(ans)"
   ]
  },
  {
   "cell_type": "code",
   "execution_count": 23,
   "id": "c8866763",
   "metadata": {},
   "outputs": [
    {
     "name": "stdout",
     "output_type": "stream",
     "text": [
      "This is the Pyth-on Prog*ramming class of PPPP\n"
     ]
    }
   ],
   "source": [
    "# replace digits with P\n",
    "import re\n",
    "text = 'This is the Pyth-on Prog*ramming class of 2025'\n",
    "reg = r'\\d'\n",
    "ans = re.sub(reg,'P',text)\n",
    "print(ans)"
   ]
  },
  {
   "cell_type": "code",
   "execution_count": 24,
   "id": "7fa7021d",
   "metadata": {},
   "outputs": [
    {
     "name": "stdout",
     "output_type": "stream",
     "text": [
      "This is the Pyth-on Prog*ramming class of P\n"
     ]
    }
   ],
   "source": [
    "import re\n",
    "text = 'This is the Pyth-on Prog*ramming class of 2025'\n",
    "reg = r'\\d+'\n",
    "ans = re.sub(reg,'P',text)\n",
    "print(ans)"
   ]
  },
  {
   "cell_type": "code",
   "execution_count": 33,
   "id": "931dda8a",
   "metadata": {},
   "outputs": [
    {
     "name": "stdout",
     "output_type": "stream",
     "text": [
      "$This is the Pyth-on Prog*ramming class of 2025\n"
     ]
    }
   ],
   "source": [
    "import re\n",
    "text = ' This is the Pyth-on Prog*ramming class of 2025'\n",
    "reg = r'^\\s'\n",
    "ans = re.sub(reg,'$',text)\n",
    "print(ans)\n",
    "# starting with"
   ]
  },
  {
   "cell_type": "code",
   "execution_count": 41,
   "id": "d4aebb50",
   "metadata": {},
   "outputs": [
    {
     "name": "stdout",
     "output_type": "stream",
     "text": [
      "$This is the Pyth-on Prog*ramming class of 2025$\n"
     ]
    }
   ],
   "source": [
    "import re\n",
    "text = ' This is the Pyth-on Prog*ramming class of 2025 '\n",
    "reg = r'^\\s|\\s$'\n",
    "ans = re.sub(reg,'$',text)\n",
    "print(ans)"
   ]
  },
  {
   "cell_type": "code",
   "execution_count": 40,
   "id": "4558a0ed",
   "metadata": {},
   "outputs": [
    {
     "name": "stdout",
     "output_type": "stream",
     "text": [
      "$This is the Pyth-on Prog*ramming class of 2025   $\n"
     ]
    }
   ],
   "source": [
    "import re\n",
    "text = ' This is the Pyth-on Prog*ramming class of 2025    '\n",
    "reg = r'^\\s|\\s$'\n",
    "ans = re.sub(reg,'$',text)\n",
    "print(ans)"
   ]
  },
  {
   "cell_type": "code",
   "execution_count": 39,
   "id": "fa05a2e7",
   "metadata": {},
   "outputs": [
    {
     "name": "stdout",
     "output_type": "stream",
     "text": [
      "$This is the Pyth-on Prog*ramming class of 2025$$\n"
     ]
    }
   ],
   "source": [
    "import re\n",
    "text = ' This is the Pyth-on Prog*ramming class of 2025    '\n",
    "reg = r'^\\s|\\s*$'\n",
    "ans = re.sub(reg,'$',text)\n",
    "print(ans)"
   ]
  },
  {
   "cell_type": "code",
   "execution_count": 42,
   "id": "3a673158",
   "metadata": {},
   "outputs": [
    {
     "name": "stdout",
     "output_type": "stream",
     "text": [
      "$This is the Pyth-on Prog*ramming class of 2025$\n"
     ]
    }
   ],
   "source": [
    "import re\n",
    "text = ' This is the Pyth-on Prog*ramming class of 2025    '\n",
    "reg = r'^\\s|\\s+$'\n",
    "ans = re.sub(reg,'$',text)\n",
    "print(ans)"
   ]
  },
  {
   "cell_type": "code",
   "execution_count": 57,
   "id": "34d5bf6d",
   "metadata": {},
   "outputs": [
    {
     "name": "stdout",
     "output_type": "stream",
     "text": [
      "[]\n"
     ]
    }
   ],
   "source": [
    "import re\n",
    "text = 'This is the Pyth-on Prog*ramming class of 2025'\n",
    "reg = r'^\\bP\\w*'\n",
    "ans = re.findall(reg,text)\n",
    "print(ans)"
   ]
  },
  {
   "cell_type": "code",
   "execution_count": 58,
   "id": "e6e2673a",
   "metadata": {},
   "outputs": [
    {
     "name": "stdout",
     "output_type": "stream",
     "text": [
      "['PThis']\n"
     ]
    }
   ],
   "source": [
    "import re\n",
    "text = 'PThis is the Pyth-on Prog*ramming class of 2025'\n",
    "reg = r'^\\bP\\w*'\n",
    "ans = re.findall(reg,text)\n",
    "print(ans)"
   ]
  },
  {
   "cell_type": "code",
   "execution_count": 59,
   "id": "ab9c8b61",
   "metadata": {},
   "outputs": [
    {
     "name": "stdout",
     "output_type": "stream",
     "text": [
      "['P']\n"
     ]
    }
   ],
   "source": [
    "import re\n",
    "text = 'PThis is the Pyth-on Prog*ramming class of 2025'\n",
    "reg = r'^P*'\n",
    "ans = re.findall(reg,text)\n",
    "print(ans)"
   ]
  },
  {
   "cell_type": "code",
   "execution_count": 72,
   "id": "5fe6d3e4",
   "metadata": {},
   "outputs": [
    {
     "name": "stdout",
     "output_type": "stream",
     "text": [
      "Alice's Adventures in Wonderland\n",
      "\n",
      "                ALICE'S ADVENTURES IN WONDERLAND\n",
      "\n",
      "                          Lewis Carroll\n",
      "\n",
      "               THE MILLENNIUM FULCRUM EDITION 3.0\n",
      "\n",
      "\n",
      "\n",
      "\n",
      "                            CHAPTER I\n",
      "\n",
      "                      Down the Rabbit-Hole\n",
      "\n",
      "\n",
      "  Alice was beginning to get very tired of sitting by her sister\n",
      "on the bank, and of having nothing to do:  once or twice she had\n",
      "peeped into the book her sister was reading, but it had no\n",
      "pictures or conversations in it, `and what is the use of a book,'\n",
      "thought Alice `without pictures or conversation?'\n",
      "\n",
      "  So she was considering in her own mind (as well as she could,\n",
      "for the hot day made her feel very sleepy and stupid), whether\n",
      "the pleasure of making a daisy-chain would be worth the trouble\n",
      "of getting up and picking the daisies, when suddenly a White\n",
      "Rabbit with pink eyes ran close by her.\n",
      "\n",
      "  There was nothing so VERY remarkable in that; nor did Alice\n",
      "think it so VERY much out of the way to hear the Rabbit say to\n",
      "itself, `Oh dear!  Oh dear!  I shall be late!'  (when she thought\n",
      "it over afterwards, it occurred to her that she ought to have\n",
      "wondered at this, but at the time it all seemed quite natural);\n",
      "but when the Rabbit actually TOOK A WATCH OUT OF ITS WAISTCOAT-\n",
      "POCKET, and looked at it, and then hurried on, Alice started to\n",
      "her feet, for it flashed across her mind that she had never\n",
      "before seen a rabbit with either a waistcoat-pocket, or a watch to\n",
      "take out of it, and burning with curiosity, she ran across the\n",
      "field after it, and fortunately was just in time to see it pop\n",
      "down a large rabbit-hole under the hedge.\n",
      "\n",
      "  In another moment down went Alice after it, never once\n",
      "considering how in the world she was to get out again.\n",
      "\n",
      "  The rabbit-hole went straight on like a tunnel for some way,\n",
      "and then dipped suddenly down, so suddenly that Alice had not a\n",
      "moment to think about stopping herself before she found herself\n",
      "falling down a very deep well.\n",
      "\n",
      "  Either the well was very deep, or she fell very slowly, for she\n",
      "had plenty of time as she went down to look about her and to\n",
      "wonder what was going to happen next.  First, she tried to look\n",
      "down and make out what she was coming to, but it was too dark to\n",
      "see anything; then she looked at the sides of the well, and\n",
      "noticed that they were filled with cupboards and book-shelves;\n",
      "here and there she saw maps and pictures hung upon pegs.  She\n",
      "took down a jar from one of the shelves as she passed; it was\n",
      "labelled `ORANGE MARMALADE', but to her great disappointment it\n",
      "was empty:  she did not like to drop the jar for fear of killing\n",
      "somebody, so managed to put it into one of the cupboards as she\n",
      "fell past it.\n",
      "\n",
      "  `Well!' thought Alice to herself, `after such a fall as this, I\n",
      "shall think nothing of tumbling down stairs!  How brave they'll\n",
      "all think me at home!  Why, I wouldn't say anything about it,\n",
      "even if I fell off the top of the house!' (Which was very likely\n",
      "true.)\n",
      "\n",
      "  Down, down, down.  Would the fall NEVER come to an end!  `I\n",
      "wonder how many miles I've fallen by this time?' she said aloud.\n",
      "`I must be getting somewhere near the centre of the earth.  Let\n",
      "me see:  that would be four thousand miles down, I think--' (for,\n",
      "you see, Alice had learnt several things of this sort in her\n",
      "lessons in the schoolroom, and though this was not a VERY good\n",
      "opportunity for showing off her knowledge, as there was no one to\n",
      "listen to her, still it was good practice to say it over) `--yes,\n",
      "that's about the right distance--but then I wonder what Latitude\n",
      "or Longitude I've got to?'  (Alice had no idea what Latitude was,\n",
      "or Longitude either, but thought they were nice grand words to\n",
      "say.)\n",
      "\n",
      "  Presently she began again.  `I wonder if I shall fall right\n",
      "THROUGH the earth!  How funny it'll seem to come out among the\n",
      "people that walk with their heads downward!  The Antipathies, I\n",
      "think--' (she was rather glad there WAS no one listening, this\n",
      "time, as it didn't sound at all the right word) `--but I shall\n",
      "have to ask them what the name of the country is, you know.\n",
      "Please, Ma'am, is this New Zealand or Australia?' (and she tried\n",
      "to curtsey as she spoke--fancy CURTSEYING as you're falling\n",
      "through the air!  Do you think you could manage it?)  `And what\n",
      "an ignorant little girl she'll think me for asking!  No, it'll\n",
      "never do to ask:  perhaps I shall see it written up somewhere.'\n",
      "\n",
      "  Down, down, down.  There was nothing else to do, so Alice soon\n",
      "began talking again.  `Dinah'll miss me very much to-night, I\n",
      "should think!'  (Dinah was the cat.)  `I hope they'll remember\n",
      "her saucer of milk at tea-time.  Dinah my dear!  I wish you were\n",
      "down here with me!  There are no mice in the air, I'm afraid, but\n",
      "you might catch a bat, and that's very like a mouse, you know.\n",
      "But do cats eat bats, I wonder?'  And here Alice began to get\n",
      "rather sleepy, and went on saying to herself, in a dreamy sort of\n",
      "way, `Do cats eat bats?  Do cats eat bats?' and sometimes, `Do\n",
      "bats eat cats?' for, you see, as she couldn't answer either\n",
      "question, it didn't much matter which way she put it.  She felt\n",
      "that she was dozing off, and had just begun to dream that she\n",
      "was walking hand in hand with Dinah, and saying to her very\n",
      "earnestly, `Now, Dinah, tell me the truth:  did you ever eat a\n",
      "bat?' when suddenly, thump! thump! down she came upon a heap of\n",
      "sticks and dry leaves, and the fall was over.\n",
      "\n",
      "  Alice was not a bit hurt, and she jumped up on to her feet in a\n",
      "moment:  she looked up, but it was all dark overhead; before her\n",
      "was another long passage, and the White Rabbit was still in\n",
      "sight, hurrying down it.  There was not a moment to be lost:\n",
      "away went Alice like the wind, and was just in time to hear it\n",
      "say, as it turned a corner, `Oh my ears and whiskers, how late\n",
      "it's getting!'  She was close behind it when she turned the\n",
      "corner, but the Rabbit was no longer to be seen:  she found\n",
      "herself in a long, low hall, which was lit up by a row of lamps\n",
      "hanging from the roof.\n",
      "\n",
      "  There were doors all round the hall, but they were all locked;\n",
      "and when Alice had been all the way down one side and up the\n",
      "other, trying every door, she walked sadly down the middle,\n",
      "wondering how she was ever to get out again.\n",
      "\n",
      "  Suddenly she came upon a little three-legged table, all made of\n",
      "solid glass; there was nothing on it except a tiny golden key,\n",
      "and Alice's first thought was that it might belong to one of the\n",
      "doors of the hall; but, alas! either the locks were too large, or\n",
      "the key was too small, but at any rate it would not open any of\n",
      "them.  However, on the second time round, she came upon a low\n",
      "curtain she had not noticed before, and behind it was a little\n",
      "door about fifteen inches high:  she tried the little golden key\n",
      "in the lock, and to her great delight it fitted!\n",
      "\n",
      "                             THE END\n"
     ]
    }
   ],
   "source": [
    "import re\n",
    "f = open('alice_in_wonderland.txt', encoding='utf-8')\n",
    "text = f.read()\n",
    "print(text)"
   ]
  },
  {
   "cell_type": "code",
   "execution_count": 71,
   "id": "974da71d",
   "metadata": {},
   "outputs": [
    {
     "name": "stdout",
     "output_type": "stream",
     "text": [
      "['in', 'of', 'on', 'and', 'of', 'once', 'or', 'into', 'it', 'or', 'in', 'it', 'and', 'is', 'use', 'of', 'a', 'or', 'in', 'own', 'as', 'as', 'and', 'of', 'a', 'of', 'up', 'and', 'a', 'eyes', 'in', 'it', 'out', 'of', 'itself', 'it', 'over', 'afterwards', 'it', 'occurred', 'ought', 'at', 'at', 'it', 'all', 'actually', 'and', 'at', 'it', 'and', 'on', 'it', 'across', 'a', 'either', 'a', 'or', 'a', 'out', 'of', 'it', 'and', 'across', 'after', 'it', 'and', 'in', 'it', 'a', 'under', 'another', 'after', 'it', 'once', 'in', 'out', 'again', 'on', 'a', 'and', 'a', 'about', 'a', 'or', 'of', 'as', 'about', 'and', 'and', 'out', 'it', 'anything', 'at', 'of', 'and', 'and', 'and', 'and', 'upon', 'a', 'one', 'of', 'as', 'it', 'it', 'empty', 'of', 'it', 'into', 'one', 'of', 'as', 'it', 'after', 'a', 'as', 'of', 'all', 'at', 'anything', 'about', 'it', 'even', 'if', 'off', 'of', 'an', 'end', 'aloud', 'of', 'earth', 'of', 'in', 'in', 'and', 'a', 'opportunity', 'off', 'as', 'one', 'it', 'it', 'over', 'about', 'or', 'idea', 'or', 'either', 'again', 'if', 'earth', 'it', 'out', 'among', 'one', 'as', 'it', 'at', 'all', 'ask', 'of', 'is', 'am', 'is', 'or', 'and', 'as', 'as', 'air', 'it', 'an', 'ignorant', 'asking', 'it', 'ask', 'it', 'up', 'else', 'again', 'of', 'at', 'are', 'in', 'air', 'afraid', 'a', 'and', 'a', 'eat', 'and', 'on', 'in', 'a', 'of', 'eat', 'eat', 'and', 'eat', 'as', 'answer', 'either', 'it', 'it', 'off', 'and', 'in', 'and', 'earnestly', 'ever', 'eat', 'a', 'upon', 'a', 'of', 'and', 'and', 'over', 'a', 'and', 'up', 'on', 'in', 'a', 'up', 'it', 'all', 'overhead', 'another', 'and', 'in', 'it', 'a', 'away', 'and', 'in', 'it', 'as', 'it', 'a', 'ears', 'and', 'it', 'it', 'in', 'a', 'up', 'a', 'of', 'all', 'all', 'and', 'all', 'one', 'and', 'up', 'other', 'every', 'ever', 'out', 'again', 'upon', 'a', 'all', 'of', 'on', 'it', 'except', 'a', 'and', 'it', 'one', 'of', 'of', 'alas', 'either', 'or', 'at', 'any', 'it', 'open', 'any', 'of', 'on', 'upon', 'a', 'and', 'it', 'a', 'about', 'inches', 'in', 'and', 'it']\n"
     ]
    }
   ],
   "source": [
    "import re\n",
    "f = open('alice_in_wonderland.txt', encoding='utf-8')\n",
    "text = f.read()\n",
    "# print(text)\n",
    "reg = r'\\b[aeiou]\\w*'\n",
    "ans = re.findall(reg,text)\n",
    "print(ans)"
   ]
  },
  {
   "cell_type": "code",
   "execution_count": 77,
   "id": "391f1700",
   "metadata": {},
   "outputs": [
    {
     "name": "stdout",
     "output_type": "stream",
     "text": [
      "['Alice', \"'s\", 'Adventures', 'Wonderland', '\\n', 'ALICE', \"'S\", 'ADVENTURES', 'IN', 'WONDERLAND', '\\n', 'Lewis', 'Carroll', '\\n', 'THE', 'MILLENNIUM', 'FULCRUM', 'EDITION', '3', '.0', '\\n', 'CHAPTER', 'I', '\\n', 'Down', 'the', 'Rabbit', '-Hole', '\\n', 'Alice', 'was', 'beginning', 'to', 'get', 'very', 'tired', 'sitting', 'by', 'her', 'sister', '\\non', 'the', 'bank', ',', 'having', 'nothing', 'to', 'do', ':', 'twice', 'she', 'had', '\\npeeped', 'the', 'book', 'her', 'sister', 'was', 'reading', ',', 'but', 'had', 'no', '\\npictures', 'conversations', ',', 'what', 'the', 'book', ',', 'thought', 'Alice', 'without', 'pictures', 'conversation', '?', 'So', 'she', 'was', 'considering', 'her', 'mind', 'well', 'she', 'could', ',', 'for', 'the', 'hot', 'day', 'made', 'her', 'feel', 'very', 'sleepy', 'stupid', ')', 'whether', '\\nthe', 'pleasure', 'making', 'daisy', '-chain', 'would', 'be', 'worth', 'the', 'trouble', '\\nof', 'getting', 'picking', 'the', 'daisies', ',', 'when', 'suddenly', 'White', '\\nRabbit', 'with', 'pink', 'ran', 'close', 'by', 'her', '.', 'There', 'was', 'nothing', 'so', 'VERY', 'remarkable', 'that', ';', 'nor', 'did', 'Alice', '\\nthink', 'so', 'VERY', 'much', 'the', 'way', 'to', 'hear', 'the', 'Rabbit', 'say', 'to', '\\nitself', ',', 'Oh', 'dear', '!', 'Oh', 'dear', '!', 'I', 'shall', 'be', 'late', '!', 'when', 'she', 'thought', '\\nit', ',', 'to', 'her', 'that', 'she', 'to', 'have', '\\nwondered', 'this', ',', 'but', 'the', 'time', 'seemed', 'quite', 'natural', ')', 'but', 'when', 'the', 'Rabbit', 'TOOK', 'A', 'WATCH', 'OUT', 'OF', 'ITS', 'WAISTCOAT', '-', 'POCKET', ',', 'looked', ',', 'then', 'hurried', ',', 'Alice', 'started', 'to', '\\nher', 'feet', ',', 'for', 'flashed', 'her', 'mind', 'that', 'she', 'had', 'never', '\\nbefore', 'seen', 'rabbit', 'with', 'waistcoat', '-pocket', ',', 'watch', 'to', '\\ntake', ',', 'burning', 'with', 'curiosity', ',', 'she', 'ran', 'the', '\\nfield', ',', 'fortunately', 'was', 'just', 'time', 'to', 'see', 'pop', '\\ndown', 'large', 'rabbit', '-hole', 'the', 'hedge', '.', 'In', 'moment', 'down', 'went', 'Alice', ',', 'never', '\\nconsidering', 'how', 'the', 'world', 'she', 'was', 'to', 'get', '.', 'The', 'rabbit', '-hole', 'went', 'straight', 'like', 'tunnel', 'for', 'some', 'way', ',', 'then', 'dipped', 'suddenly', 'down', ',', 'so', 'suddenly', 'that', 'Alice', 'had', 'not', '\\nmoment', 'to', 'think', 'stopping', 'herself', 'before', 'she', 'found', 'herself', '\\nfalling', 'down', 'very', 'deep', 'well', '.', 'Either', 'the', 'well', 'was', 'very', 'deep', ',', 'she', 'fell', 'very', 'slowly', ',', 'for', 'she', '\\nhad', 'plenty', 'time', 'she', 'went', 'down', 'to', 'look', 'her', 'to', '\\nwonder', 'what', 'was', 'going', 'to', 'happen', 'next', '.', 'First', ',', 'she', 'tried', 'to', 'look', '\\ndown', 'make', 'what', 'she', 'was', 'coming', 'to', ',', 'but', 'was', 'too', 'dark', 'to', '\\nsee', ';', 'then', 'she', 'looked', 'the', 'sides', 'the', 'well', ',', '\\nnoticed', 'that', 'they', 'were', 'filled', 'with', 'cupboards', 'book', '-shelves', ';', 'here', 'there', 'she', 'saw', 'maps', 'pictures', 'hung', 'pegs', '.', 'She', '\\ntook', 'down', 'jar', 'from', 'the', 'shelves', 'she', 'passed', ';', 'was', '\\nlabelled', 'ORANGE', 'MARMALADE', \"'\", 'but', 'to', 'her', 'great', 'disappointment', '\\nwas', ':', 'she', 'did', 'not', 'like', 'to', 'drop', 'the', 'jar', 'for', 'fear', 'killing', '\\nsomebody', ',', 'so', 'managed', 'to', 'put', 'the', 'cupboards', 'she', '\\nfell', 'past', '.', 'Well', '!', 'thought', 'Alice', 'to', 'herself', ',', 'such', 'fall', 'this', ',', 'I', '\\nshall', 'think', 'nothing', 'tumbling', 'down', 'stairs', '!', 'How', 'brave', 'they', \"'ll\", '\\nall', 'think', 'me', 'home', '!', 'Why', ',', 'I', 'wouldn', \"'t\", 'say', ',', 'I', 'fell', 'the', 'top', 'the', 'house', '!', 'Which', 'was', 'very', 'likely', '\\ntrue', '.', 'Down', ',', 'down', ',', 'down', '.', 'Would', 'the', 'fall', 'NEVER', 'come', 'to', '!', 'I', '\\nwonder', 'how', 'many', 'miles', 'I', \"'ve\", 'fallen', 'by', 'this', 'time', '?', 'she', 'said', '.', 'I', 'must', 'be', 'getting', 'somewhere', 'near', 'the', 'centre', 'the', '.', 'Let', '\\nme', 'see', ':', 'that', 'would', 'be', 'four', 'thousand', 'miles', 'down', ',', 'I', 'think', '-', 'for', ',', 'you', 'see', ',', 'Alice', 'had', 'learnt', 'several', 'things', 'this', 'sort', 'her', '\\nlessons', 'the', 'schoolroom', ',', 'though', 'this', 'was', 'not', 'VERY', 'good', '\\nopportunity', 'for', 'showing', 'her', 'knowledge', ',', 'there', 'was', 'no', 'to', '\\nlisten', 'to', 'her', ',', 'still', 'was', 'good', 'practice', 'to', 'say', ')', 'yes', ',', 'that', \"'s\", 'the', 'right', 'distance', '-', 'but', 'then', 'I', 'wonder', 'what', 'Latitude', '\\nor', 'Longitude', 'I', \"'ve\", 'got', 'to', '?', 'Alice', 'had', 'no', 'what', 'Latitude', 'was', ',', 'Longitude', ',', 'but', 'thought', 'they', 'were', 'nice', 'grand', 'words', 'to', '\\nsay', '.', 'Presently', 'she', 'began', '.', 'I', 'wonder', 'I', 'shall', 'fall', 'right', '\\nTHROUGH', 'the', '!', 'How', 'funny', \"'ll\", 'seem', 'to', 'come', 'the', '\\npeople', 'that', 'walk', 'with', 'their', 'heads', 'downward', '!', 'The', 'Antipathies', ',', 'I', '\\nthink', '-', 'she', 'was', 'rather', 'glad', 'there', 'WAS', 'no', 'listening', ',', 'this', '\\ntime', ',', 'didn', \"'t\", 'sound', 'the', 'right', 'word', ')', 'but', 'I', 'shall', '\\nhave', 'to', 'them', 'what', 'the', 'name', 'the', 'country', ',', 'you', 'know', '.', 'Please', ',', 'Ma', \"'am\", ',', 'this', 'New', 'Zealand', 'Australia', '?', 'she', 'tried', '\\nto', 'curtsey', 'she', 'spoke', '-', 'fancy', 'CURTSEYING', 'you', \"'re\", 'falling', '\\nthrough', 'the', '!', 'Do', 'you', 'think', 'you', 'could', 'manage', '?', 'And', 'what', '\\nan', 'little', 'girl', 'she', \"'ll\", 'think', 'me', 'for', '!', 'No', ',', \"'ll\", '\\nnever', 'do', 'to', ':', 'perhaps', 'I', 'shall', 'see', 'written', 'somewhere', '.', 'Down', ',', 'down', ',', 'down', '.', 'There', 'was', 'nothing', 'to', 'do', ',', 'so', 'Alice', 'soon', '\\nbegan', 'talking', '.', 'Dinah', \"'ll\", 'miss', 'me', 'very', 'much', 'to', '-night', ',', 'I', '\\nshould', 'think', '!', 'Dinah', 'was', 'the', 'cat', '.', 'I', 'hope', 'they', \"'ll\", 'remember', '\\nher', 'saucer', 'milk', 'tea', '-time', '.', 'Dinah', 'my', 'dear', '!', 'I', 'wish', 'you', 'were', '\\ndown', 'here', 'with', 'me', '!', 'There', 'no', 'mice', 'the', ',', 'I', \"'m\", ',', 'but', '\\nyou', 'might', 'catch', 'bat', ',', 'that', \"'s\", 'very', 'like', 'mouse', ',', 'you', 'know', '.', 'But', 'do', 'cats', 'bats', ',', 'I', 'wonder', '?', 'And', 'here', 'Alice', 'began', 'to', 'get', '\\nrather', 'sleepy', ',', 'went', 'saying', 'to', 'herself', ',', 'dreamy', 'sort', '\\nway', ',', 'Do', 'cats', 'bats', '?', 'Do', 'cats', 'bats', '?', 'sometimes', ',', 'Do', '\\nbats', 'cats', '?', 'for', ',', 'you', 'see', ',', 'she', 'couldn', \"'t\", '\\nquestion', ',', 'didn', \"'t\", 'much', 'matter', 'which', 'way', 'she', 'put', '.', 'She', 'felt', '\\nthat', 'she', 'was', 'dozing', ',', 'had', 'just', 'begun', 'to', 'dream', 'that', 'she', '\\nwas', 'walking', 'hand', 'hand', 'with', 'Dinah', ',', 'saying', 'to', 'her', 'very', '\\nearnestly', ',', 'Now', ',', 'Dinah', ',', 'tell', 'me', 'the', 'truth', ':', 'did', 'you', '\\nbat', '?', 'when', 'suddenly', ',', 'thump', '!', 'thump', '!', 'down', 'she', 'came', 'heap', '\\nsticks', 'dry', 'leaves', ',', 'the', 'fall', 'was', '.', 'Alice', 'was', 'not', 'bit', 'hurt', ',', 'she', 'jumped', 'to', 'her', 'feet', '\\nmoment', ':', 'she', 'looked', ',', 'but', 'was', 'dark', ';', 'before', 'her', '\\nwas', 'long', 'passage', ',', 'the', 'White', 'Rabbit', 'was', 'still', '\\nsight', ',', 'hurrying', 'down', '.', 'There', 'was', 'not', 'moment', 'to', 'be', 'lost', ':', 'went', 'Alice', 'like', 'the', 'wind', ',', 'was', 'just', 'time', 'to', 'hear', '\\nsay', ',', 'turned', 'corner', ',', 'Oh', 'my', 'whiskers', ',', 'how', 'late', '\\nit', \"'s\", 'getting', '!', 'She', 'was', 'close', 'behind', 'when', 'she', 'turned', 'the', '\\ncorner', ',', 'but', 'the', 'Rabbit', 'was', 'no', 'longer', 'to', 'be', 'seen', ':', 'she', 'found', '\\nherself', 'long', ',', 'low', 'hall', ',', 'which', 'was', 'lit', 'by', 'row', 'lamps', '\\nhanging', 'from', 'the', 'roof', '.', 'There', 'were', 'doors', 'round', 'the', 'hall', ',', 'but', 'they', 'were', 'locked', ';', 'when', 'Alice', 'had', 'been', 'the', 'way', 'down', 'side', 'the', '\\nother', ',', 'trying', 'door', ',', 'she', 'walked', 'sadly', 'down', 'the', 'middle', ',', 'wondering', 'how', 'she', 'was', 'to', 'get', '.', 'Suddenly', 'she', 'came', 'little', 'three', '-legged', 'table', ',', 'made', '\\nsolid', 'glass', ';', 'there', 'was', 'nothing', 'tiny', 'golden', 'key', ',', 'Alice', \"'s\", 'first', 'thought', 'was', 'that', 'might', 'belong', 'to', 'the', '\\ndoors', 'the', 'hall', ';', 'but', ',', '!', 'the', 'locks', 'were', 'too', 'large', ',', '\\nthe', 'key', 'was', 'too', 'small', ',', 'but', 'rate', 'would', 'not', '\\nthem', '.', 'However', ',', 'the', 'second', 'time', 'round', ',', 'she', 'came', 'low', '\\ncurtain', 'she', 'had', 'not', 'noticed', 'before', ',', 'behind', 'was', 'little', '\\ndoor', 'fifteen', 'high', ':', 'she', 'tried', 'the', 'little', 'golden', 'key', '\\nin', 'the', 'lock', ',', 'to', 'her', 'great', 'delight', 'fitted', '!', 'THE', 'END']\n"
     ]
    }
   ],
   "source": [
    "import re\n",
    "f = open('alice_in_wonderland.txt', encoding='utf-8')\n",
    "text = f.read()\n",
    "# print(text)\n",
    "reg = r'\\b[^aeiou ]\\w*'\n",
    "ans = re.findall(reg,text)\n",
    "print(ans)\n",
    "\n",
    "# ^ - inverse starts with"
   ]
  },
  {
   "cell_type": "code",
   "execution_count": 78,
   "id": "b3f2e62b",
   "metadata": {},
   "outputs": [
    {
     "name": "stdout",
     "output_type": "stream",
     "text": [
      "['and', 'onc', 'int', 'and', 'use', 'own', 'and', 'and', 'eye', 'out', 'its', 'ove', 'aft', 'occ', 'oug', 'all', 'act', 'and', 'and', 'acr', 'eit', 'out', 'and', 'acr', 'aft', 'and', 'und', 'ano', 'aft', 'onc', 'out', 'aga', 'and', 'abo', 'abo', 'and', 'and', 'out', 'any', 'and', 'and', 'and', 'and', 'upo', 'one', 'emp', 'int', 'one', 'aft', 'all', 'any', 'abo', 'eve', 'off', 'end', 'alo', 'ear', 'and', 'opp', 'off', 'one', 'ove', 'abo', 'ide', 'eit', 'aga', 'ear', 'out', 'amo', 'one', 'all', 'ask', 'and', 'air', 'ign', 'ask', 'ask', 'els', 'aga', 'are', 'air', 'afr', 'and', 'eat', 'and', 'eat', 'eat', 'and', 'eat', 'ans', 'eit', 'off', 'and', 'and', 'ear', 'eve', 'eat', 'upo', 'and', 'and', 'ove', 'and', 'all', 'ove', 'ano', 'and', 'awa', 'and', 'ear', 'and', 'all', 'all', 'and', 'all', 'one', 'and', 'oth', 'eve', 'eve', 'out', 'aga', 'upo', 'all', 'exc', 'and', 'one', 'ala', 'eit', 'any', 'ope', 'any', 'upo', 'and', 'abo', 'inc', 'and']\n"
     ]
    }
   ],
   "source": [
    "import re\n",
    "f = open('alice_in_wonderland.txt', encoding='utf-8')\n",
    "text = f.read()\n",
    "# print(text)\n",
    "reg = r'\\b[aeiou]\\w{2}'\n",
    "ans = re.findall(reg,text)\n",
    "print(ans)"
   ]
  },
  {
   "cell_type": "code",
   "execution_count": 79,
   "id": "5b4c8c35",
   "metadata": {},
   "outputs": [
    {
     "name": "stdout",
     "output_type": "stream",
     "text": [
      "['and', 'and', 'use', 'own', 'and', 'and', 'out', 'all', 'and', 'and', 'out', 'and', 'and', 'out', 'and', 'and', 'and', 'out', 'and', 'and', 'and', 'and', 'one', 'one', 'all', 'off', 'end', 'and', 'off', 'one', 'out', 'one', 'all', 'ask', 'and', 'air', 'ask', 'are', 'air', 'and', 'eat', 'and', 'eat', 'eat', 'and', 'eat', 'off', 'and', 'and', 'eat', 'and', 'and', 'and', 'all', 'and', 'and', 'and', 'all', 'all', 'and', 'all', 'one', 'and', 'out', 'all', 'and', 'one', 'any', 'any', 'and', 'and']\n"
     ]
    }
   ],
   "source": [
    "import re\n",
    "f = open('alice_in_wonderland.txt', encoding='utf-8')\n",
    "text = f.read()\n",
    "# print(text)\n",
    "reg = r'\\b[aeiou]\\w{2}\\b'\n",
    "ans = re.findall(reg,text)\n",
    "print(ans)"
   ]
  },
  {
   "cell_type": "code",
   "execution_count": 2,
   "id": "f9eafeed",
   "metadata": {},
   "outputs": [
    {
     "name": "stdout",
     "output_type": "stream",
     "text": [
      "['and', 'once', 'into', 'and', 'use', 'own', 'and', 'and', 'eyes', 'out', 'itself', 'over', 'ought', 'all', 'and', 'and', 'across', 'either', 'out', 'and', 'across', 'after', 'and', 'under', 'after', 'once', 'out', 'again', 'and', 'about', 'about', 'and', 'and', 'out', 'and', 'and', 'and', 'and', 'upon', 'one', 'empty', 'into', 'one', 'after', 'all', 'about', 'even', 'off', 'end', 'aloud', 'earth', 'and', 'off', 'one', 'over', 'about', 'idea', 'either', 'again', 'earth', 'out', 'among', 'one', 'all', 'ask', 'and', 'air', 'asking', 'ask', 'else', 'again', 'are', 'air', 'afraid', 'and', 'eat', 'and', 'eat', 'eat', 'and', 'eat', 'answer', 'either', 'off', 'and', 'and', 'ever', 'eat', 'upon', 'and', 'and', 'over', 'and', 'all', 'and', 'away', 'and', 'ears', 'and', 'all', 'all', 'and', 'all', 'one', 'and', 'other', 'every', 'ever', 'out', 'again', 'upon', 'all', 'except', 'and', 'one', 'alas', 'either', 'any', 'open', 'any', 'upon', 'and', 'about', 'inches', 'and']\n"
     ]
    }
   ],
   "source": [
    "import re\n",
    "f = open('alice_in_wonderland.txt', encoding='utf-8')\n",
    "text = f.read()\n",
    "reg = r'\\b[aeiou]\\w{2,5}\\b'\n",
    "ans = re.findall(reg,text)\n",
    "print(ans)\n",
    "# min length 3 to 5"
   ]
  },
  {
   "cell_type": "code",
   "execution_count": 3,
   "id": "6243c12f",
   "metadata": {},
   "outputs": [
    {
     "name": "stdout",
     "output_type": "stream",
     "text": [
      "['once', 'into', 'eyes', 'itself', 'over', 'afterwards', 'occurred', 'ought', 'actually', 'across', 'either', 'across', 'after', 'under', 'another', 'after', 'once', 'again', 'about', 'about', 'anything', 'upon', 'empty', 'into', 'after', 'anything', 'about', 'even', 'aloud', 'earth', 'opportunity', 'over', 'about', 'idea', 'either', 'again', 'earth', 'among', 'ignorant', 'asking', 'else', 'again', 'afraid', 'answer', 'either', 'earnestly', 'ever', 'upon', 'over', 'overhead', 'another', 'away', 'ears', 'other', 'every', 'ever', 'again', 'upon', 'except', 'alas', 'either', 'open', 'upon', 'about', 'inches']\n"
     ]
    }
   ],
   "source": [
    "import re\n",
    "f = open('alice_in_wonderland.txt', encoding='utf-8')\n",
    "text = f.read()\n",
    "reg = r'\\b[aeiou]\\w{3,}\\b'\n",
    "ans = re.findall(reg,text)\n",
    "print(ans)\n",
    "# length min 3 or more"
   ]
  },
  {
   "cell_type": "code",
   "execution_count": 5,
   "id": "5d9dcb57",
   "metadata": {},
   "outputs": [
    {
     "name": "stdout",
     "output_type": "stream",
     "text": [
      "['in', 'of', 'on', 'and', 'of', 'once', 'or', 'into', 'it', 'or', 'in', 'it', 'and', 'is', 'use', 'of', 'a', 'or', 'in', 'own', 'as', 'as', 'and', 'of', 'a', 'of', 'up', 'and', 'a', 'eyes', 'in', 'it', 'out', 'of', 'it', 'over', 'it', 'ought', 'at', 'at', 'it', 'all', 'and', 'at', 'it', 'and', 'on', 'it', 'a', 'a', 'or', 'a', 'out', 'of', 'it', 'and', 'after', 'it', 'and', 'in', 'it', 'a', 'under', 'after', 'it', 'once', 'in', 'out', 'again', 'on', 'a', 'and', 'a', 'about', 'a', 'or', 'of', 'as', 'about', 'and', 'and', 'out', 'it', 'at', 'of', 'and', 'and', 'and', 'and', 'upon', 'a', 'one', 'of', 'as', 'it', 'it', 'empty', 'of', 'it', 'into', 'one', 'of', 'as', 'it', 'after', 'a', 'as', 'of', 'all', 'at', 'about', 'it', 'even', 'if', 'off', 'of', 'an', 'end', 'aloud', 'of', 'earth', 'of', 'in', 'in', 'and', 'a', 'off', 'as', 'one', 'it', 'it', 'over', 'about', 'or', 'idea', 'or', 'again', 'if', 'earth', 'it', 'out', 'among', 'one', 'as', 'it', 'at', 'all', 'ask', 'of', 'is', 'am', 'is', 'or', 'and', 'as', 'as', 'air', 'it', 'an', 'it', 'ask', 'it', 'up', 'else', 'again', 'of', 'at', 'are', 'in', 'air', 'a', 'and', 'a', 'eat', 'and', 'on', 'in', 'a', 'of', 'eat', 'eat', 'and', 'eat', 'as', 'it', 'it', 'off', 'and', 'in', 'and', 'ever', 'eat', 'a', 'upon', 'a', 'of', 'and', 'and', 'over', 'a', 'and', 'up', 'on', 'in', 'a', 'up', 'it', 'all', 'and', 'in', 'it', 'a', 'away', 'and', 'in', 'it', 'as', 'it', 'a', 'ears', 'and', 'it', 'it', 'in', 'a', 'up', 'a', 'of', 'all', 'all', 'and', 'all', 'one', 'and', 'up', 'other', 'every', 'ever', 'out', 'again', 'upon', 'a', 'all', 'of', 'on', 'it', 'a', 'and', 'it', 'one', 'of', 'of', 'alas', 'or', 'at', 'any', 'it', 'open', 'any', 'of', 'on', 'upon', 'a', 'and', 'it', 'a', 'about', 'in', 'and', 'it']\n"
     ]
    }
   ],
   "source": [
    "import re\n",
    "f = open('alice_in_wonderland.txt', encoding='utf-8')\n",
    "text = f.read()\n",
    "reg = r'\\b[aeiou]\\w{,4}\\b'\n",
    "ans = re.findall(reg,text)\n",
    "print(ans)\n",
    "# length max 4"
   ]
  },
  {
   "cell_type": "code",
   "execution_count": 8,
   "id": "95999732",
   "metadata": {},
   "outputs": [
    {
     "name": "stdout",
     "output_type": "stream",
     "text": [
      "[' ', ' ', '$']\n"
     ]
    }
   ],
   "source": [
    "import re\n",
    "text = 'Python is $Programming'\n",
    "reg = r'\\W'\n",
    "ans = re.findall(reg, text)\n",
    "print(ans)"
   ]
  },
  {
   "cell_type": "code",
   "execution_count": 10,
   "id": "5f88192e",
   "metadata": {},
   "outputs": [
    {
     "name": "stdout",
     "output_type": "stream",
     "text": [
      "['']\n"
     ]
    }
   ],
   "source": [
    "import re\n",
    "text = 'Python is $Programming'\n",
    "reg = r'$'\n",
    "ans = re.findall(reg, text)\n",
    "print(ans)"
   ]
  },
  {
   "cell_type": "code",
   "execution_count": 11,
   "id": "49babf88",
   "metadata": {},
   "outputs": [
    {
     "name": "stdout",
     "output_type": "stream",
     "text": [
      "['$']\n"
     ]
    }
   ],
   "source": [
    "import re\n",
    "text = 'Python is $Programming'\n",
    "reg = r'\\$'\n",
    "ans = re.findall(reg, text)\n",
    "print(ans)"
   ]
  },
  {
   "cell_type": "code",
   "execution_count": 22,
   "id": "b559def6",
   "metadata": {},
   "outputs": [
    {
     "name": "stdout",
     "output_type": "stream",
     "text": [
      "['Python*', 'is*', 'Pro']\n"
     ]
    }
   ],
   "source": [
    "import re\n",
    "text = 'Python** is*** Pro'\n",
    "reg = r'\\w+\\W?'\n",
    "ans = re.findall(reg, text)\n",
    "print(ans)"
   ]
  },
  {
   "cell_type": "code",
   "execution_count": 24,
   "id": "7acfa467",
   "metadata": {},
   "outputs": [
    {
     "name": "stdout",
     "output_type": "stream",
     "text": [
      "['', '', '', '', '', '', '*', '*', ' ', '', '', '*', '*', '*', ' ', '', '', '', '']\n"
     ]
    }
   ],
   "source": [
    "import re\n",
    "text = 'Python** is*** Pro'\n",
    "reg = r'\\W?'\n",
    "ans = re.findall(reg, text)\n",
    "print(ans)"
   ]
  },
  {
   "cell_type": "code",
   "execution_count": 25,
   "id": "72f402ea",
   "metadata": {},
   "outputs": [
    {
     "name": "stdout",
     "output_type": "stream",
     "text": [
      "['P', 'y', 't', 'h', 'o', 'n', '', '', '', 'i', 's', '', '', '', '', 'P', 'r', 'o', '']\n"
     ]
    }
   ],
   "source": [
    "import re\n",
    "text = 'Python** is*** Pro'\n",
    "reg = r'\\w?'\n",
    "ans = re.findall(reg, text)\n",
    "print(ans)"
   ]
  },
  {
   "cell_type": "code",
   "execution_count": null,
   "id": "7ff38049",
   "metadata": {},
   "outputs": [],
   "source": []
  },
  {
   "cell_type": "code",
   "execution_count": null,
   "id": "a9a29ff3",
   "metadata": {},
   "outputs": [],
   "source": []
  }
 ],
 "metadata": {
  "kernelspec": {
   "display_name": "Python 3 (ipykernel)",
   "language": "python",
   "name": "python3"
  },
  "language_info": {
   "codemirror_mode": {
    "name": "ipython",
    "version": 3
   },
   "file_extension": ".py",
   "mimetype": "text/x-python",
   "name": "python",
   "nbconvert_exporter": "python",
   "pygments_lexer": "ipython3",
   "version": "3.8.5"
  }
 },
 "nbformat": 4,
 "nbformat_minor": 5
}
